{
 "cells": [
  {
   "cell_type": "code",
   "execution_count": 4,
   "metadata": {},
   "outputs": [],
   "source": [
    "import pandas as pd\n",
    "import numpy as np\n",
    "import os , shutil\n",
    "import cv2\n",
    "import matplotlib.pyplot as plt\n",
    "import matplotlib.image as mpimg\n",
    "import seaborn as sns\n",
    "import zipfile\n",
    "%matplotlib inline\n",
    "plt.style.use('ggplot')"
   ]
  },
  {
   "cell_type": "markdown",
   "metadata": {},
   "source": [
    "Renaming The Files"
   ]
  },
  {
   "cell_type": "code",
   "execution_count": 8,
   "metadata": {},
   "outputs": [],
   "source": [
    "path_ys='Brain_Tumor_Images/yes/'\n",
    "cnt=1\n",
    "for fl_nm in os.listdir(path_ys):\n",
    "    source=path_ys+fl_nm\n",
    "    dest=path_ys+\"Y_\"+str(cnt)+\".jpg\"\n",
    "    os.rename(source,dest)\n",
    "    cnt+=1"
   ]
  },
  {
   "cell_type": "code",
   "execution_count": 9,
   "metadata": {},
   "outputs": [],
   "source": [
    "path_no='Brain_Tumor_Images/no/'\n",
    "cnt=1\n",
    "for fl_nm in os.listdir(path_no):\n",
    "    source=path_no+fl_nm\n",
    "    dest=path_no+\"N_\"+str(cnt)+\".jpg\"\n",
    "    os.rename(source,dest)\n",
    "    cnt+=1"
   ]
  },
  {
   "cell_type": "code",
   "execution_count": 10,
   "metadata": {},
   "outputs": [],
   "source": [
    "cnt_ys=len(os.listdir('Brain_Tumor_Images/yes/'))\n",
    "cnt_no=len(os.listdir('Brain_Tumor_Images/no/'))"
   ]
  },
  {
   "cell_type": "code",
   "execution_count": 14,
   "metadata": {},
   "outputs": [
    {
     "data": {
      "text/plain": [
       "Text(0.5, 1.0, 'Number of brain Tumor Image')"
      ]
     },
     "execution_count": 14,
     "metadata": {},
     "output_type": "execute_result"
    },
    {
     "data": {
      "image/png": "[encoded data removed]",
      "text/plain": [
       "<Figure size 640x480 with 1 Axes>"
      ]
     },
     "metadata": {},
     "output_type": "display_data"
    }
   ],
   "source": [
    "type=[\"Tumourous\",\"Non-Tumourous\"]\n",
    "value=[cnt_ys,cnt_no]\n",
    "plt.bar(type,value)\n",
    "plt.xlabel('Data')\n",
    "plt.ylabel('No of Images')\n",
    "plt.title('Number of brain Tumor Image')"
   ]
  },
  {
   "cell_type": "code",
   "execution_count": 17,
   "metadata": {},
   "outputs": [],
   "source": [
    "import tensorflow as tf\n",
    "from tensorflow.keras.preprocessing.image import ImageDataGenerator\n",
    "from tensorflow.keras.models import Model\n",
    "from tensorflow.keras.layers import Flatten, Dense, Dropout\n",
    "from tensorflow.keras.applications.vgg19 import VGG19\n",
    "from tensorflow.keras.optimizers import SGD , Adam\n",
    "from tensorflow.keras.callbacks import ModelCheckpoint,EarlyStopping,ReduceLROnPlateau"
   ]
  },
  {
   "cell_type": "code",
   "execution_count": 18,
   "metadata": {},
   "outputs": [],
   "source": [
    "def augment_data(file_dir, n_sample, saving_dir):\n",
    "    datagen=ImageDataGenerator(rotation_range=10,\n",
    "                                width_shift_range=0.1,\n",
    "                                height_shift_range=0.1,\n",
    "                                shear_range=0.1,\n",
    "                                brightness_range=(0.3,1.0),\n",
    "                                horizontal_flip=True,\n",
    "                                vertical_flip=True,\n",
    "                                fill_mode='nearest')\n",
    "    for filename in os.listdir(file_dir):\n",
    "        img=cv2.imread(file_dir+'/'+ filename)\n",
    "        img=img.reshape((1,)+img.shape)\n",
    "        save_prefix='aug_'+filename[:-4]\n",
    "        i=0\n",
    "        for batch in datagen.flow(x=img,batch_size=1,save_to_dir=saving_dir,save_prefix=save_prefix,save_format='jpg'):\n",
    "            i+=1\n",
    "            if i>n_sample:\n",
    "                break\n",
    "            \n"
   ]
  },
  {
   "cell_type": "code",
   "execution_count": 20,
   "metadata": {},
   "outputs": [],
   "source": [
    "augment_data('Brain_Tumor_Images/yes',6,'Augmented_Data/yes')\n",
    "augment_data('Brain_Tumor_Images/no',9,'Augmented_Data/no')"
   ]
  },
  {
   "cell_type": "code",
   "execution_count": null,
   "metadata": {},
   "outputs": [],
   "source": []
  },
  {
   "cell_type": "code",
   "execution_count": null,
   "metadata": {},
   "outputs": [],
   "source": []
  }
 ],
 "metadata": {
  "kernelspec": {
   "display_name": "Python 3",
   "language": "python",
   "name": "python3"
  },
  "language_info": {
   "codemirror_mode": {
    "name": "ipython",
    "version": 3
   },
   "file_extension": ".py",
   "mimetype": "text/x-python",
   "name": "python",
   "nbconvert_exporter": "python",
   "pygments_lexer": "ipython3",
   "version": "3.12.3"
  }
 },
 "nbformat": 4,
 "nbformat_minor": 2
}
